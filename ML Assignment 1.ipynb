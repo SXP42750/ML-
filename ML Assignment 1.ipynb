{
 "cells": [
  {
   "cell_type": "markdown",
   "id": "5c1c0541",
   "metadata": {},
   "source": [
    "# Question 1\n"
   ]
  },
  {
   "cell_type": "code",
   "execution_count": 10,
   "id": "429968ad",
   "metadata": {},
   "outputs": [
    {
     "name": "stdout",
     "output_type": "stream",
     "text": [
      "sort list is :  [19, 19, 20, 22, 24, 24, 24, 25, 25, 26]\n",
      "Minimum Age is :  19\n",
      "Maximum Age is :  26\n",
      "Appending the Min:  [19, 22, 19, 24, 20, 25, 26, 24, 25, 24, 19]\n",
      "Appending the Max:  [19, 22, 19, 24, 20, 25, 26, 24, 25, 24, 19, 26]\n",
      "Median :  36.0\n",
      "Average :  22.75\n",
      "Range =  7\n"
     ]
    }
   ],
   "source": [
    "\n",
    "\n",
    "ages=[19,22,19,24,20,25,26,24,25,24]\n",
    "\n",
    "print('sort list is : ', sorted(ages))\n",
    "\n",
    "# Minimum age is.\n",
    "print(\"Minimum Age is : \", min(ages))\n",
    "\n",
    "# Maximum age.\n",
    "print(\"Maximum Age is : \", max(ages))\n",
    "\n",
    "# Appending Min age and Max age to the list\n",
    "ages.append(min(ages))\n",
    "print(\"Appending the Min: \", ages)\n",
    "\n",
    "ages.append(max(ages)) \n",
    "print(\"Appending the Max: \", ages )\n",
    "\n",
    "# Median of ages list\n",
    "mid =len(ages)//2 #Finding the middle index and dividing by 2\n",
    "\n",
    "sortedList=sorted(ages)\n",
    "if len(ages) % 2: #checking if the list mid even\n",
    "    print(\"Median : \", sortedList[mid]) \n",
    "else:\n",
    "    print(\"Median : \", (sortedList[mid] + sortedList[mid +1]/2.0)) \n",
    "\n",
    "# Average of ages.\n",
    "\n",
    "avg=sum(ages)/len(ages) #Sum of elements by number of elements\n",
    "print(\"Average : \", avg) \n",
    "\n",
    "# Range of Functions \n",
    "# Max number - Min number.\n",
    "print(\"Range = \", max(ages)-min(ages))"
   ]
  },
  {
   "cell_type": "markdown",
   "id": "c18ce9d0",
   "metadata": {},
   "source": [
    "# Question 2"
   ]
  },
  {
   "cell_type": "code",
   "execution_count": 1,
   "id": "f60f3ec5",
   "metadata": {},
   "outputs": [
    {
     "name": "stdout",
     "output_type": "stream",
     "text": [
      "{'Name': None, 'color': None, 'breed': None, 'legs': None, 'age': None}\n",
      "9\n",
      "<class 'list'>\n",
      "['communication', 'critical thinking', 'Teamwork']\n",
      "\n",
      "dict_keys(['first_name', 'last_name', 'gender', 'age', 'marital status', 'skills', 'country', 'city', 'address'])\n",
      "\n",
      "dict_values(['Kaushik', 'Peesari ', 'Male', 21, 'Single', ['communication', 'critical thinking', 'Teamwork'], 'India', 'Hyderabad', 'Teachers colony'])\n"
     ]
    }
   ],
   "source": [
    "dog = {}  # empty Dictionary\n",
    "\n",
    "# Adding the keys of the dictionary\n",
    "dog[\"Name\"] = None\n",
    "dog['color'] = None\n",
    "dog['breed'] = None\n",
    "dog['legs'] = None\n",
    "dog['age'] = None\n",
    "print(dog)\n",
    "\n",
    "# Creating student dictionary\n",
    "student = {\n",
    "    'first_name': \"Kaushik\",\n",
    "    'last_name': \"Peesari \",\n",
    "    'gender': \"Male\",\n",
    "    'age': 21,\n",
    "    'marital status': 'Single',\n",
    "    'skills': ['communication', 'critical thinking'],\n",
    "    'country': 'India',\n",
    "    'city': 'Hyderabad',\n",
    "    'address': 'Teachers colony',\n",
    "}\n",
    "\n",
    "# finding length \n",
    "print(len(student))\n",
    "\n",
    "\n",
    "\n",
    "# Getting the type of skills\n",
    "print(type(student['skills']))\n",
    "\n",
    "\n",
    "# Adding another skill value and printing it.\n",
    "\n",
    "student['skills'].append('Teamwork')\n",
    "print(student['skills'])\n",
    "\n",
    "# Getting the keys as list.\n",
    "\n",
    "print() #new line\n",
    "print(student.keys())\n",
    "print() #new line\n",
    "\n",
    "# Getting the values as list.\n",
    "\n",
    "print(student.values())\n"
   ]
  },
  {
   "cell_type": "markdown",
   "id": "e38ebcb6",
   "metadata": {},
   "source": [
    "# Question 3"
   ]
  },
  {
   "cell_type": "code",
   "execution_count": 11,
   "id": "2a4ca713",
   "metadata": {},
   "outputs": [
    {
     "name": "stdout",
     "output_type": "stream",
     "text": [
      "\n",
      "8\n",
      "\n",
      "('Karthik', 'Manoj', 'Kamli', 'Charan', 'Deepika', 'Anisha', 'Shaik', 'Vani', 'Surya', 'vani')\n",
      "\n"
     ]
    }
   ],
   "source": [
    "# Creating a brother tuple\n",
    "\n",
    "brothers=('Karthik','Manoj','Kamli','Charan')\n",
    "\n",
    "#creating a Sister tuple\n",
    "sisters=('Deepika','Anisha','Shaik','Vani')\n",
    "\n",
    "#adding two tuples\n",
    "\n",
    "siblings=brothers + sisters\n",
    "\n",
    "#length of siblings tuple\n",
    "print(len(siblings))\n",
    "# Adding Parents names...\n",
    "\n",
    "#converting the siblings tuple into a list.\n",
    "sibList=list(siblings)\n",
    "#parents List\n",
    "parents=['Surya','vani']\n",
    "\n",
    "# adding parents list to siblings list \n",
    "sibingList.extend(parents)\n",
    "\n",
    "\n",
    "familymembers=tuple(siblingList)\n",
    "\n",
    "\n",
    "\n",
    "\n",
    "print(familymembers)\n",
    "\n"
   ]
  },
  {
   "cell_type": "code",
   "execution_count": null,
   "id": "63752b36",
   "metadata": {},
   "outputs": [],
   "source": []
  },
  {
   "cell_type": "markdown",
   "id": "95c634f0",
   "metadata": {},
   "source": [
    "# Question 4"
   ]
  },
  {
   "cell_type": "code",
   "execution_count": 2,
   "id": "ea60be3a",
   "metadata": {},
   "outputs": [
    {
     "name": "stdout",
     "output_type": "stream",
     "text": [
      "Length of it_companies:  7\n",
      "{'Accenture', 'IBM', 'Oracle', 'Microsoft', 'Google', 'Amazon', 'Apple', 'Facebook', 'Twitter', 'TCS'}\n",
      "Joined:  {19, 20, 22, 24, 25, 26, 27, 28}\n",
      "Intersection :  {19, 20, 22, 24, 25, 26}\n",
      "True\n",
      "False\n",
      "{19, 20, 22, 24, 25, 26, 27, 28}\n",
      "{19, 20, 22, 24, 25, 26, 27, 28}\n",
      "The symmetry between A and B is =  {27, 28}\n",
      "length of Ages:  5\n"
     ]
    }
   ],
   "source": [
    "it_companies = {'Facebook', 'Google', 'Microsoft', 'Apple', 'IBM', 'Oracle', 'Amazon'}\n",
    "A = {19, 22, 24, 20, 25, 26} \n",
    "B = {19, 22, 20, 25, 26, 24, 28, 27} \n",
    "age = [22, 19, 24, 25, 26, 24, 25, 24]  \n",
    "\n",
    "#Length \n",
    "print('Length of it_companies: ', len(it_companies))\n",
    "\n",
    "#adding an element to  a set\n",
    "it_companies.add('Twitter')\n",
    "\n",
    "#adding more IT companies\n",
    "it_companies1 = {'Netflix','TCS','Accenture'}\n",
    "\n",
    "\n",
    "#adding multi it companies to set it_companies \n",
    "new_it_companies=it_companies1.union(it_companies)\n",
    "\n",
    "#remove an item from _it_companies\n",
    "\n",
    "new_it_companies.remove('Netflix')\n",
    "\n",
    "#printing the rest It_companies\n",
    "print(new_it_companies)\n",
    "\n",
    "# Join  A and B\n",
    "joi=A.union(B)\n",
    "print(\"Joined: \", joi)\n",
    "\n",
    "#intersection\n",
    "inter=A.intersection(B)\n",
    "print(\"Intersection : \", inter)\n",
    "\n",
    "# is subset.\n",
    "print(A.issubset(B))\n",
    "\n",
    "# is disjoint\n",
    "print(A.isdisjoint(B)) \n",
    "\n",
    "# A join to B and B join A\n",
    "print(A.union(B))\n",
    "\n",
    "print(B.union(A))\n",
    "\n",
    "# Symmetric Difference between A and B.\n",
    "print('The symmetry between A and B is = ', A.symmetric_difference(B))\n",
    "\n",
    "# Removing the sets...\n",
    "new_it_companies.clear()\n",
    "A.clear()\n",
    "B.clear()\n",
    "\n",
    "\n",
    "# converting Ages to set and finding the length. \n",
    "Ages=set(age)\n",
    "print(\"length of Ages: \", len(Ages))"
   ]
  },
  {
   "cell_type": "code",
   "execution_count": null,
   "id": "8375c3ab",
   "metadata": {},
   "outputs": [],
   "source": []
  },
  {
   "cell_type": "markdown",
   "id": "1b7618cd",
   "metadata": {},
   "source": [
    "# Question 5"
   ]
  },
  {
   "cell_type": "code",
   "execution_count": 4,
   "id": "d6e0c8d7",
   "metadata": {},
   "outputs": [
    {
     "name": "stdout",
     "output_type": "stream",
     "text": [
      "2826.0\n",
      "188.4\n",
      "Enter the radius: 44\n",
      "6079.04\n"
     ]
    }
   ],
   "source": [
    "radius = 30\n",
    "\n",
    "# Calculating Area of Circle.\n",
    "_area_of_circle_= 3.14 * radius **2\n",
    "\n",
    "print(_area_of_circle_)\n",
    "\n",
    "# Calculating Circumference of Circle...\n",
    "\n",
    "_circum_of_circle_= 2 * 3.14 * radius\n",
    "\n",
    "print(_circum_of_circle_)\n",
    "\n",
    "# Now Taking the radius from user and calculating the area...\n",
    "\n",
    "radius1= int(input(\"Enter the radius: \"))\n",
    "\n",
    "area = 3.14 * radius1 * radius1\n",
    "\n",
    "print(area)"
   ]
  },
  {
   "cell_type": "code",
   "execution_count": null,
   "id": "536555e7",
   "metadata": {},
   "outputs": [],
   "source": []
  },
  {
   "cell_type": "markdown",
   "id": "23e2f5aa",
   "metadata": {},
   "source": [
    "# Question 6:"
   ]
  },
  {
   "cell_type": "code",
   "execution_count": 5,
   "id": "7126c308",
   "metadata": {},
   "outputs": [
    {
     "name": "stdout",
     "output_type": "stream",
     "text": [
      "10\n"
     ]
    }
   ],
   "source": [
    "sentence=\"I am a teacher and I love to inspire and teach people\"\n",
    "\n",
    "# Finding the unique word length \n",
    "print(len(set(sentence.split())))\n"
   ]
  },
  {
   "cell_type": "code",
   "execution_count": null,
   "id": "0a2305e5",
   "metadata": {},
   "outputs": [],
   "source": []
  },
  {
   "cell_type": "markdown",
   "id": "aa6c3f75",
   "metadata": {},
   "source": [
    "# Question 7"
   ]
  },
  {
   "cell_type": "code",
   "execution_count": 6,
   "id": "156e8d8e",
   "metadata": {},
   "outputs": [
    {
     "name": "stdout",
     "output_type": "stream",
     "text": [
      "Name \t Age \t Country City \n",
      " Asabeneh \t 250 \t Finland Helsinki\n"
     ]
    }
   ],
   "source": [
    "#  using tab sapce\n",
    "print('Name \\t Age \\t Country City \\n Asabeneh \\t 250 \\t Finland Helsinki')\n"
   ]
  },
  {
   "cell_type": "code",
   "execution_count": null,
   "id": "e46cad15",
   "metadata": {},
   "outputs": [],
   "source": []
  },
  {
   "cell_type": "markdown",
   "id": "9b91cc98",
   "metadata": {},
   "source": [
    "# Question 8"
   ]
  },
  {
   "cell_type": "code",
   "execution_count": 12,
   "id": "f7868615",
   "metadata": {},
   "outputs": [
    {
     "name": "stdout",
     "output_type": "stream",
     "text": [
      "The area of a circle with radius 10 is 314.0 meters square.\n"
     ]
    }
   ],
   "source": [
    "radius = 10\n",
    "\n",
    "area = 3.14 * radius ** 2\n",
    "\n",
    "#printing the output using string formatting...\n",
    "\n",
    "print(f'The area of a circle with radius {radius} is {area} meters square.')"
   ]
  },
  {
   "cell_type": "code",
   "execution_count": null,
   "id": "f7440ab5",
   "metadata": {},
   "outputs": [],
   "source": []
  },
  {
   "cell_type": "markdown",
   "id": "384537ea",
   "metadata": {},
   "source": [
    "# Question 9"
   ]
  },
  {
   "cell_type": "code",
   "execution_count": 8,
   "id": "b8509036",
   "metadata": {},
   "outputs": [
    {
     "name": "stdout",
     "output_type": "stream",
     "text": [
      "Enter the number of weights you want to enter in  lbs: 4\n",
      "enter weights in lbs: 150\n",
      "enter weights in lbs: 155\n",
      "enter weights in lbs: 145\n",
      "enter weights in lbs: 148\n",
      "Weight in Kilograms =  [68.0385, 70.30645, 65.77055, 67.13132]\n"
     ]
    }
   ],
   "source": [
    "# user input \n",
    "num=int(input('Enter the number of weights you want to enter in  lbs: '))\n",
    "\n",
    "# empty list\n",
    "weight_in_kgs=[]\n",
    "\n",
    "# empty list \n",
    "weight_in_lbs=[]\n",
    "\n",
    "# appending the inputs to a list\n",
    "for i in range(num):\n",
    "    weight_in_lb=int(input('enter weights in lbs: '))\n",
    "    weight_in_lbs.append(weight_in_lb)\n",
    "for j in weight_in_lbs:\n",
    "    weight_in_kgs.append(j*0.45359)\n",
    "print ('Weight in Kilograms = ', weight_in_kgs)"
   ]
  },
  {
   "cell_type": "code",
   "execution_count": null,
   "id": "bd556e39",
   "metadata": {},
   "outputs": [],
   "source": []
  },
  {
   "cell_type": "markdown",
   "id": "f2eaca68",
   "metadata": {},
   "source": [
    "# Question 10"
   ]
  },
  {
   "cell_type": "code",
   "execution_count": null,
   "id": "5d433067",
   "metadata": {},
   "outputs": [],
   "source": [
    "# In Word Document... "
   ]
  }
 ],
 "metadata": {
  "kernelspec": {
   "display_name": "Python 3 (ipykernel)",
   "language": "python",
   "name": "python3"
  },
  "language_info": {
   "codemirror_mode": {
    "name": "ipython",
    "version": 3
   },
   "file_extension": ".py",
   "mimetype": "text/x-python",
   "name": "python",
   "nbconvert_exporter": "python",
   "pygments_lexer": "ipython3",
   "version": "3.9.13"
  }
 },
 "nbformat": 4,
 "nbformat_minor": 5
}

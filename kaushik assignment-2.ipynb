{
 "cells": [
  {
   "cell_type": "code",
   "execution_count": 10,
   "id": "290b70cc",
   "metadata": {},
   "outputs": [
    {
     "name": "stdout",
     "output_type": "stream",
     "text": [
      "\n",
      "*\n",
      "**\n",
      "***\n",
      "****\n",
      "*****\n",
      "****\n",
      "***\n",
      "**\n",
      "*\n"
     ]
    }
   ],
   "source": [
    "for i in range(5):\n",
    "    for j in range(i):\n",
    "        print(\"*\", end=\"\")\n",
    "    print(\"\")\n",
    "\n",
    "for i in range(5,0,-1):\n",
    "    for j in range(i):\n",
    "        print(\"*\",end=\"\")\n",
    "    print(\"\")"
   ]
  },
  {
   "cell_type": "code",
   "execution_count": 28,
   "id": "ed1e3742",
   "metadata": {},
   "outputs": [
    {
     "name": "stdout",
     "output_type": "stream",
     "text": [
      "20  40  60  80  100  "
     ]
    }
   ],
   "source": [
    "my_list=[10, 20, 30, 40, 50, 60, 70, 80, 90, 100]\n",
    "for i in range(len(my_list)):\n",
    "        if i%2!=0:\n",
    "            print(my_list[i],\" \",end=\"\")"
   ]
  },
  {
   "cell_type": "code",
   "execution_count": 15,
   "id": "d37ac8f8",
   "metadata": {},
   "outputs": [
    {
     "name": "stdout",
     "output_type": "stream",
     "text": [
      "[23, 'Python', 23.98]\n",
      "[<class 'int'>, <class 'str'>, <class 'float'>]\n"
     ]
    }
   ],
   "source": [
    "x=[23,'Python',23.98]\n",
    "y=[]\n",
    "for i in x:\n",
    "    y.append(type(i))\n",
    "print(x)\n",
    "print(y)\n",
    "    "
   ]
  },
  {
   "cell_type": "code",
   "execution_count": 17,
   "id": "b780c80f",
   "metadata": {},
   "outputs": [
    {
     "name": "stdout",
     "output_type": "stream",
     "text": [
      "{1, 2, 3, 4, 5}\n"
     ]
    }
   ],
   "source": [
    "def unique(Sample_list):\n",
    "    unique_list=set(Sample_list)\n",
    "    print(unique_list)\n",
    "li=[1,2,3,3,3,3,4,5]\n",
    "unique(li)       "
   ]
  },
  {
   "cell_type": "code",
   "execution_count": 18,
   "id": "b2c8a466",
   "metadata": {},
   "outputs": [
    {
     "name": "stdout",
     "output_type": "stream",
     "text": [
      "No of Upper-case characters: 3\n",
      "No of lower-case characters: 12\n"
     ]
    }
   ],
   "source": [
    "def upp(st):\n",
    "    uppercase=0\n",
    "    lowercase=0\n",
    "    for i in st:\n",
    "        if i.isupper():\n",
    "            uppercase+=1\n",
    "        if i.islower():\n",
    "            lowercase+=1\n",
    "    print(\"No of Upper-case characters:\",uppercase)\n",
    "    print(\"No of lower-case characters:\",lowercase)\n",
    "abc='The quick Brow Fox'\n",
    "upp(abc)"
   ]
  },
  {
   "cell_type": "code",
   "execution_count": null,
   "id": "80a17ea2",
   "metadata": {},
   "outputs": [],
   "source": []
  }
 ],
 "metadata": {
  "kernelspec": {
   "display_name": "Python 3 (ipykernel)",
   "language": "python",
   "name": "python3"
  },
  "language_info": {
   "codemirror_mode": {
    "name": "ipython",
    "version": 3
   },
   "file_extension": ".py",
   "mimetype": "text/x-python",
   "name": "python",
   "nbconvert_exporter": "python",
   "pygments_lexer": "ipython3",
   "version": "3.9.7"
  }
 },
 "nbformat": 4,
 "nbformat_minor": 5
}
